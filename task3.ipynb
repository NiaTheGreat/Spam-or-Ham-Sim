{
 "cells": [
  {
   "cell_type": "markdown",
   "id": "1df29eda",
   "metadata": {
    "id": "1df29eda"
   },
   "source": [
    "Step 0. Unzip enron1.zip into the current directory."
   ]
  },
  {
   "cell_type": "markdown",
   "id": "bf32cfce",
   "metadata": {
    "id": "bf32cfce"
   },
   "source": [
    "Step 1. Traverse the dataset and create a Pandas dataframe. This is already done for you and should run without any errors. You should recognize Pandas from task 1."
   ]
  },
  {
   "cell_type": "code",
   "execution_count": 6,
   "id": "20c5d195",
   "metadata": {
    "id": "20c5d195"
   },
   "outputs": [
    {
     "name": "stdout",
     "output_type": "stream",
     "text": [
      "skipped 2649.2004-10-27.GP.spam.txt\n",
      "skipped 0754.2004-04-01.GP.spam.txt\n",
      "skipped 2042.2004-08-30.GP.spam.txt\n",
      "skipped 3304.2004-12-26.GP.spam.txt\n",
      "skipped 4142.2005-03-31.GP.spam.txt\n",
      "skipped 3364.2005-01-01.GP.spam.txt\n",
      "skipped 4201.2005-04-05.GP.spam.txt\n",
      "skipped 2140.2004-09-13.GP.spam.txt\n",
      "skipped 2248.2004-09-23.GP.spam.txt\n",
      "skipped 4350.2005-04-23.GP.spam.txt\n",
      "skipped 4566.2005-05-24.GP.spam.txt\n",
      "skipped 2526.2004-10-17.GP.spam.txt\n",
      "skipped 1414.2004-06-24.GP.spam.txt\n",
      "skipped 2698.2004-10-31.GP.spam.txt\n",
      "skipped 5105.2005-08-31.GP.spam.txt\n",
      "                             name  \\\n",
      "0  1061.2000-05-10.farmer.ham.txt   \n",
      "1  0446.2000-02-18.farmer.ham.txt   \n",
      "2  0067.1999-12-27.farmer.ham.txt   \n",
      "3  1553.2000-06-29.farmer.ham.txt   \n",
      "4  1790.2000-07-28.farmer.ham.txt   \n",
      "\n",
      "                                             content category  \n",
      "0  Subject: ena sales on hpl\\njust to update you ...      ham  \n",
      "1  Subject: 98 - 6736 & 98 - 9638 for 1997 ( ua 4...      ham  \n",
      "2  Subject: hpl nominations for december 28 , 199...      ham  \n",
      "3  Subject: revised nom - kcs resources\\ndaren ,\\...      ham  \n",
      "4  Subject: new production - sitara deals needed\\...      ham  \n"
     ]
    }
   ],
   "source": [
    "import pandas as pd\n",
    "import os\n",
    "\n",
    "def read_spam():\n",
    "    category = 'spam'\n",
    "    directory = './enron1/spam'\n",
    "    return read_category(category, directory)\n",
    "\n",
    "def read_ham():\n",
    "    category = 'ham'\n",
    "    directory = './enron1/ham'\n",
    "    return read_category(category, directory)\n",
    "\n",
    "def read_category(category, directory):\n",
    "    emails = []\n",
    "    for filename in os.listdir(directory):\n",
    "        if not filename.endswith(\".txt\"):\n",
    "            continue\n",
    "        with open(os.path.join(directory, filename), 'r') as fp:\n",
    "            try:\n",
    "                content = fp.read()\n",
    "                emails.append({'name': filename, 'content': content, 'category': category})\n",
    "            except:\n",
    "                print(f'skipped {filename}')\n",
    "    return emails\n",
    "\n",
    "ham = read_ham()\n",
    "spam = read_spam()\n",
    "\n",
    "# Convert ham and spam to DataFrames and concatenate them\n",
    "df_ham = pd.DataFrame.from_records(ham)\n",
    "df_spam = pd.DataFrame.from_records(spam)\n",
    "\n",
    "# Use pd.concat instead of append\n",
    "df = pd.concat([df_ham, df_spam], ignore_index=True)\n",
    "\n",
    "# Now df contains both ham and spam emails\n",
    "print(df.head())"
   ]
  },
  {
   "cell_type": "markdown",
   "id": "1a1c23fd",
   "metadata": {
    "id": "1a1c23fd"
   },
   "source": [
    "Step 2. Data cleaning is a critical part of machine learning. You and I can recognize that 'Hello' and 'hello' are the same word but a machine does not know this a priori. Therefore, we can 'help' the machine by conducting such normalization steps for it. Write a function `preprocessor` that takes in a string and replaces all non alphabet characters with a space and then lowercases the result."
   ]
  },
  {
   "cell_type": "code",
   "execution_count": 7,
   "id": "c447c901",
   "metadata": {
    "id": "c447c901"
   },
   "outputs": [
    {
     "name": "stdout",
     "output_type": "stream",
     "text": [
      "hello  world      \n"
     ]
    }
   ],
   "source": [
    "import re\n",
    "\n",
    "def preprocessor(text):\n",
    "    # Replace all non-alphabet characters with a space\n",
    "    text = re.sub(r'[^a-zA-Z]', ' ', text)\n",
    "    # Convert the text to lowercase\n",
    "    return text.lower()\n",
    "\n",
    "# Example usage\n",
    "input_text = \"Hello, World! 1234\"\n",
    "processed_text = preprocessor(input_text)\n",
    "print(processed_text)  # Output: \"hello  world\"\n"
   ]
  },
  {
   "cell_type": "markdown",
   "id": "ba32521d",
   "metadata": {
    "id": "ba32521d"
   },
   "source": [
    "Step 3. We will now train the machine learning model. All the functions that you will need are imported for you. The instructions explain how the work and hint at which functions to use. You will likely need to refer to the scikit learn documentation to see how exactly to invoke the functions. It will be handy to keep that tab open."
   ]
  },
  {
   "cell_type": "code",
   "execution_count": 10,
   "id": "1442d377",
   "metadata": {
    "id": "1442d377"
   },
   "outputs": [
    {
     "name": "stdout",
     "output_type": "stream",
     "text": [
      "Accuracy: 0.9757751937984496\n",
      "Confusion Matrix:\n",
      "[[693  14]\n",
      " [ 11 314]]\n",
      "Classification Report:\n",
      "              precision    recall  f1-score   support\n",
      "\n",
      "         ham       0.98      0.98      0.98       707\n",
      "        spam       0.96      0.97      0.96       325\n",
      "\n",
      "    accuracy                           0.98      1032\n",
      "   macro avg       0.97      0.97      0.97      1032\n",
      "weighted avg       0.98      0.98      0.98      1032\n",
      "\n"
     ]
    }
   ],
   "source": [
    "from sklearn.feature_extraction.text import CountVectorizer\n",
    "from sklearn.model_selection import train_test_split\n",
    "from sklearn.linear_model import LogisticRegression\n",
    "from sklearn.metrics import accuracy_score, confusion_matrix, classification_report\n",
    "\n",
    "# The CountVectorizer converts a text sample into a vector (think of it as an array of floats).\n",
    "# Each entry in the vector corresponds to a single word and the value is the number of times the word appeared.\n",
    "# Instantiate a CountVectorizer. Make sure to include the preprocessor you previously wrote in the constructor.\n",
    "# TODO\n",
    "vectorizer = CountVectorizer(preprocessor=preprocessor)\n",
    "\n",
    "\n",
    "# Use train_test_split to split the dataset into a train dataset and a test dataset.\n",
    "# The machine learning model learns from the train dataset.\n",
    "# Then the trained model is tested on the test dataset to see if it actually learned anything.\n",
    "# If it just memorized for example, then it would have a low accuracy on the test dataset and a high accuracy on the train dataset.\n",
    "# TODO\n",
    "# Split the dataset into training and testing groups.\n",
    "# X will be the 'content' (emails), and y will be the 'category' (ham or spam).\n",
    "X = df['content']\n",
    "y = df['category']\n",
    "\n",
    "# Split into training and testing data (80% train, 20% test).\n",
    "X_train, X_test, y_train, y_test = train_test_split(X, y, test_size=0.2, random_state=42)\n",
    "\n",
    "\n",
    "\n",
    "# Use the vectorizer to transform the existing dataset into a form in which the model can learn from.\n",
    "# Remember that simple machine learning models operate on numbers, which the CountVectorizer conveniently helped us do.\n",
    "# TODO\n",
    "# Transform the emails into numbers using the vectorizer.\n",
    "X_train_vectorized = vectorizer.fit_transform(X_train)\n",
    "X_test_vectorized = vectorizer.transform(X_test)\n",
    "\n",
    "\n",
    "\n",
    "# Use the LogisticRegression model to fit to the train dataset.\n",
    "# You may remember y = mx + b and Linear Regression from high school. Here, we fitted a scatter plot to a line.\n",
    "# Logistic Regression is another form of regression. \n",
    "# However, Logistic Regression helps us determine if a point should be in category A or B, which is a perfect fit.\n",
    "# TODO\n",
    "# Use the Logistic Regression model to learn from the training data.\n",
    "model = LogisticRegression()\n",
    "model.fit(X_train_vectorized, y_train)\n",
    "\n",
    "\n",
    "\n",
    "# Validate that the model has learned something.\n",
    "# Recall the model operates on vectors. First transform the test set using the vectorizer. \n",
    "# Then generate the predictions.\n",
    "# TODO\n",
    "# Transform the test set into numbers and make predictions.\n",
    "y_pred = model.predict(X_test_vectorized)\n",
    "\n",
    "\n",
    "\n",
    "# We now want to see how we have done. We will be using three functions.\n",
    "# `accuracy_score` tells us how well we have done. \n",
    "# 90% means that every 9 of 10 entries from the test dataset were predicted accurately.\n",
    "# The `confusion_matrix` is a 2x2 matrix that gives us more insight.\n",
    "# The top left shows us how many ham emails were predicted to be ham (that's good!).\n",
    "# The bottom right shows us how many spam emails were predicted to be spam (that's good!).\n",
    "# The other two quadrants tell us the misclassifications.\n",
    "# Finally, the `classification_report` gives us detailed statistics which you may have seen in a statistics class.\n",
    "# TODO\n",
    "# Check how well the model did using accuracy score, confusion matrix, and classification report.\n",
    "accuracy = accuracy_score(y_test, y_pred)\n",
    "conf_matrix = confusion_matrix(y_test, y_pred)\n",
    "class_report = classification_report(y_test, y_pred)\n",
    "\n",
    "print(f\"Accuracy: {accuracy}\")\n",
    "print(\"Confusion Matrix:\")\n",
    "print(conf_matrix)\n",
    "print(\"Classification Report:\")\n",
    "print(class_report)\n",
    "\n",
    "\n"
   ]
  },
  {
   "cell_type": "markdown",
   "id": "9674d032",
   "metadata": {
    "id": "9674d032"
   },
   "source": [
    "Step 4."
   ]
  },
  {
   "cell_type": "code",
   "execution_count": 12,
   "id": "6b7d78c9",
   "metadata": {
    "id": "6b7d78c9"
   },
   "outputs": [
    {
     "name": "stdout",
     "output_type": "stream",
     "text": [
      "['aa' 'aaa' 'aaas' 'aac' 'aachecar' 'aafco' 'aaiabe' 'aaigrcrb' 'aaldano'\n",
      " 'aalland']\n",
      "[-2.67465092e-01  3.92935771e-04  9.51511524e-05  3.12636720e-03\n",
      " -5.48330163e-06  3.48775896e-04  6.62444805e-02  1.47006991e-02\n",
      " -5.48330163e-06  2.21182314e-06]\n",
      "Top 10 ham-related words:\n",
      "attached: -1.6913882270809077\n",
      "enron: -1.5553855617069685\n",
      "daren: -1.4290074098140515\n",
      "thanks: -1.3322514313102198\n",
      "doc: -1.2859118693371674\n",
      "deal: -1.2375469841647124\n",
      "meter: -1.115141031407056\n",
      "hpl: -1.1083592522339116\n",
      "neon: -1.000763122999497\n",
      "xls: -0.9510368518094542\n",
      "\n",
      "Top 10 spam-related words:\n",
      "more: 0.6353542111656005\n",
      "pain: 0.6476422961981965\n",
      "only: 0.6595368291593605\n",
      "here: 0.7069486566875188\n",
      "money: 0.745124634174134\n",
      "no: 0.757636214558395\n",
      "prices: 0.7730663634846965\n",
      "removed: 0.7804981144150746\n",
      "hello: 0.8142493283384381\n",
      "http: 0.8944041770930773\n"
     ]
    }
   ],
   "source": [
    "# Let's see which features (aka columns) the vectorizer created. \n",
    "# They should be all the words that were contained in the training dataset.\n",
    "# TODO\n",
    "# Step 4.1: Display the features created by the vectorizer\n",
    "features = vectorizer.get_feature_names_out()\n",
    "\n",
    "# Print the first 10 features (words) as an example\n",
    "print(features[:10])\n",
    "\n",
    "\n",
    "\n",
    "# You may be wondering what a machine learning model is tangibly. It is just a collection of numbers. \n",
    "# You can access these numbers known as \"coefficients\" from the coef_ property of the model\n",
    "# We will be looking at coef_[0] which represents the importance of each feature.\n",
    "# What does importance mean in this context?\n",
    "# Some words are more important than others for the model.\n",
    "# It's nothing personal, just that spam emails tend to contain some words more frequently.\n",
    "# This indicates to the model that having that word would make a new email more likely to be spam.\n",
    "# TODO\n",
    "# Step 4.2: Get the coefficients of the Logistic Regression model\n",
    "coefficients = model.coef_[0]\n",
    "\n",
    "# Print the first 10 coefficients as an example\n",
    "print(coefficients[:10])\n",
    "\n",
    "\n",
    "\n",
    "# Iterate over importance and find the top 10 positive features with the largest magnitude.\n",
    "# Similarly, find the top 10 negative features with the largest magnitude.\n",
    "# Positive features correspond to spam. Negative features correspond to ham.\n",
    "# You will see that `http` is the strongest feature that corresponds to spam emails. \n",
    "# It makes sense. Spam emails often want you to click on a link.\n",
    "# TODO\n",
    "# Step 4.3: Find the top 10 positive and negative features\n",
    "\n",
    "# Sort features by importance\n",
    "# Positive values (spam) at the top, negative values (ham) at the bottom\n",
    "sorted_indices = coefficients.argsort()\n",
    "\n",
    "# Get the top 10 negative features (ham)\n",
    "top_negative_indices = sorted_indices[:10]\n",
    "top_negative_words = features[top_negative_indices]\n",
    "top_negative_values = coefficients[top_negative_indices]\n",
    "\n",
    "# Get the top 10 positive features (spam)\n",
    "top_positive_indices = sorted_indices[-10:]\n",
    "top_positive_words = features[top_positive_indices]\n",
    "top_positive_values = coefficients[top_positive_indices]\n",
    "\n",
    "# Print the top negative features (ham)\n",
    "print(\"Top 10 ham-related words:\")\n",
    "for word, coef in zip(top_negative_words, top_negative_values):\n",
    "    print(f\"{word}: {coef}\")\n",
    "\n",
    "# Print the top positive features (spam)\n",
    "print(\"\\nTop 10 spam-related words:\")\n",
    "for word, coef in zip(top_positive_words, top_positive_values):\n",
    "    print(f\"{word}: {coef}\")\n",
    "\n",
    "\n"
   ]
  },
  {
   "cell_type": "markdown",
   "id": "d267e7ad",
   "metadata": {
    "id": "d267e7ad"
   },
   "source": [
    "Submission\n",
    "1. Upload the jupyter notebook to Forage."
   ]
  },
  {
   "cell_type": "markdown",
   "id": "LI4u_ZUGToDQ",
   "metadata": {
    "id": "LI4u_ZUGToDQ"
   },
   "source": [
    "All Done!"
   ]
  }
 ],
 "metadata": {
  "colab": {
   "collapsed_sections": [],
   "name": "task3.ipynb",
   "provenance": []
  },
  "kernelspec": {
   "display_name": "Python 3.12.6 ('forageenv': venv)",
   "language": "python",
   "name": "python3"
  },
  "language_info": {
   "codemirror_mode": {
    "name": "ipython",
    "version": 3
   },
   "file_extension": ".py",
   "mimetype": "text/x-python",
   "name": "python",
   "nbconvert_exporter": "python",
   "pygments_lexer": "ipython3",
   "version": "3.12.6"
  },
  "vscode": {
   "interpreter": {
    "hash": "89c0c29f4e1ce3a8b75411699359531fa8dfe7a4c7d957f56da0e1f59c302b08"
   }
  }
 },
 "nbformat": 4,
 "nbformat_minor": 5
}
